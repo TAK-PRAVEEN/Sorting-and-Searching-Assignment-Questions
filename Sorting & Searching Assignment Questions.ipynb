{
 "cells": [
  {
   "cell_type": "markdown",
   "metadata": {},
   "source": [
    "**Problem 1 :**"
   ]
  },
  {
   "cell_type": "markdown",
   "metadata": {},
   "source": [
    "Intersection of Two Sorted Arrays\n",
    "\n",
    "Write a Python program to find the intersection of two sorted arrays."
   ]
  },
  {
   "cell_type": "markdown",
   "metadata": {},
   "source": [
    "Input:\n",
    "A = [1, 3, 5, 7, 9]\n",
    "B = [2, 4, 5, 8]\n",
    "Output:\n",
    "Intersection: [5]"
   ]
  },
  {
   "cell_type": "code",
   "execution_count": 1,
   "metadata": {},
   "outputs": [
    {
     "name": "stdout",
     "output_type": "stream",
     "text": [
      "Intersection of [1, 3, 5, 7, 9] and [2, 4, 5, 8]:\n",
      "[5]\n"
     ]
    }
   ],
   "source": [
    "def find_intersection(arr1, arr2):\n",
    "    intersection = []\n",
    "    i, j = 0, 0\n",
    "\n",
    "    while i < len(arr1) and j < len(arr2):\n",
    "        if arr1[i] == arr2[j]:\n",
    "            intersection.append(arr1[i])\n",
    "            i += 1\n",
    "            j += 1\n",
    "        elif arr1[i] < arr2[j]:\n",
    "            i += 1\n",
    "        else:\n",
    "            j += 1\n",
    "\n",
    "    return intersection\n",
    "\n",
    "A = [1, 3, 5, 7, 9]\n",
    "B = [2, 4, 5, 8]\n",
    "result = find_intersection(A, B)\n",
    "\n",
    "print(f\"Intersection of {A} and {B}:\")\n",
    "print(result)"
   ]
  },
  {
   "cell_type": "markdown",
   "metadata": {},
   "source": [
    "**Problem 2 :**"
   ]
  },
  {
   "cell_type": "markdown",
   "metadata": {},
   "source": [
    "Find the Kth Smallest Element\n",
    "\n",
    "Write a Python function to find the kth smallest element in an unsorted list."
   ]
  },
  {
   "cell_type": "markdown",
   "metadata": {},
   "source": [
    "Input:\n",
    "[12, 3, 1, 7, 8, 20], k = 3\n",
    "Output:\n",
    "The 3rd smallest element is 7"
   ]
  },
  {
   "cell_type": "code",
   "execution_count": 2,
   "metadata": {},
   "outputs": [
    {
     "name": "stdout",
     "output_type": "stream",
     "text": [
      "The 3th smallest element is: 7\n"
     ]
    }
   ],
   "source": [
    "def partition(arr, low, high):\n",
    "    pivot = arr[high]\n",
    "    i = low  # Index of smaller element\n",
    "\n",
    "    for j in range(low, high):\n",
    "        if arr[j] <= pivot:\n",
    "            arr[i], arr[j] = arr[j], arr[i]\n",
    "            i += 1\n",
    "\n",
    "    arr[i], arr[high] = arr[high], arr[i]\n",
    "    return i\n",
    "\n",
    "def quickselect(arr, low, high, k):\n",
    "    if low <= high:\n",
    "        pivot_index = partition(arr, low, high)\n",
    "\n",
    "        if pivot_index == k:\n",
    "            return arr[pivot_index]\n",
    "        elif pivot_index < k:\n",
    "            return quickselect(arr, pivot_index + 1, high, k)\n",
    "        else:\n",
    "            return quickselect(arr, low, pivot_index - 1, k)\n",
    "\n",
    "def find_kth_smallest(arr, k):\n",
    "    if k < 1 or k > len(arr):\n",
    "        return None  # Invalid k value\n",
    "\n",
    "    return quickselect(arr, 0, len(arr) - 1, k - 1)\n",
    "\n",
    "unsorted_list = [12, 3, 1, 7, 8, 20]\n",
    "k = 3\n",
    "result = find_kth_smallest(unsorted_list, k)\n",
    "\n",
    "if result is not None:\n",
    "    print(f\"The {k}th smallest element is: {result}\")\n",
    "else:\n",
    "    print(f\"Invalid k value or empty list.\")"
   ]
  },
  {
   "cell_type": "markdown",
   "metadata": {},
   "source": [
    "**Problem 3 :**"
   ]
  },
  {
   "cell_type": "markdown",
   "metadata": {},
   "source": [
    "Binary Search in a Rotated Sorted Array\n",
    "\n",
    "Implement a Python program to perform a binary search on a rotated sorted array."
   ]
  },
  {
   "cell_type": "markdown",
   "metadata": {},
   "source": [
    "Input:\n",
    "[4, 5, 6, 7, 8, 9, 1, 2, 3], 6\n",
    "Output:\n",
    "Element 6 found at index 2"
   ]
  },
  {
   "cell_type": "code",
   "execution_count": 4,
   "metadata": {},
   "outputs": [
    {
     "name": "stdout",
     "output_type": "stream",
     "text": [
      "Found 6 at index 2.\n"
     ]
    }
   ],
   "source": [
    "def find_pivot(arr):\n",
    "    # Find the index of the minimum element (the pivot)\n",
    "    left, right = 0, len(arr) - 1\n",
    "    while left < right:\n",
    "        mid = left + (right - left) // 2\n",
    "        if arr[mid] > arr[right]:\n",
    "            left = mid + 1\n",
    "        else:\n",
    "            right = mid\n",
    "    return left\n",
    "\n",
    "def binary_search_rotated(arr, target):\n",
    "    pivot = find_pivot(arr)\n",
    "    if arr[pivot] == target:\n",
    "        return pivot\n",
    "\n",
    "    # Determine which segment contains the target\n",
    "    if target >= arr[0]:\n",
    "        left, right = 0, pivot - 1\n",
    "    else:\n",
    "        left, right = pivot, len(arr) - 1\n",
    "\n",
    "    # Perform binary search within the chosen segment\n",
    "    while left <= right:\n",
    "        mid = left + (right - left) // 2\n",
    "        if arr[mid] == target:\n",
    "            return mid\n",
    "        elif arr[mid] < target:\n",
    "            left = mid + 1\n",
    "        else:\n",
    "            right = mid - 1\n",
    "\n",
    "    return -1  # Target not found\n",
    "\n",
    "\n",
    "rotated_array = [4, 5, 6, 7, 8, 9, 1, 2, 3]\n",
    "target_element = 6\n",
    "result = binary_search_rotated(rotated_array, target_element)\n",
    "\n",
    "if result != -1:\n",
    "    print(f\"Found {target_element} at index {result}.\")\n",
    "else:\n",
    "    print(f\"{target_element} is not in the rotated array.\")"
   ]
  },
  {
   "cell_type": "markdown",
   "metadata": {},
   "source": [
    "**Problem 4 :**"
   ]
  },
  {
   "cell_type": "markdown",
   "metadata": {},
   "source": [
    "Searching in a Matrix\n",
    "\n",
    "Write a Python program that searches for a given element in a 2D matrix and returns its position."
   ]
  },
  {
   "cell_type": "markdown",
   "metadata": {},
   "source": [
    "Input:\n",
    "Matrix = [\n",
    "[1, 3, 5],\n",
    "[7, 9, 11],\n",
    "[13, 15, 17]\n",
    "]\n",
    "Element = 11\n",
    "Output:\n",
    "Element 11 found at position (1, 2)"
   ]
  },
  {
   "cell_type": "code",
   "execution_count": 7,
   "metadata": {},
   "outputs": [
    {
     "name": "stdout",
     "output_type": "stream",
     "text": [
      "Found 11 at position (1, 2).\n"
     ]
    }
   ],
   "source": [
    "def search_in_matrix(matrix, target):\n",
    "    if not matrix or not matrix[0]:\n",
    "        return None  # Empty matrix\n",
    "\n",
    "    rows, cols = len(matrix), len(matrix[0])\n",
    "    row, col = 0, cols - 1  # Start from the top-right corner\n",
    "\n",
    "    while row < rows and col >= 0:\n",
    "        if matrix[row][col] == target:\n",
    "            return (row, col)  # Found the target\n",
    "        elif matrix[row][col] > target:\n",
    "            col -= 1  # Move left\n",
    "        else:\n",
    "            row += 1  # Move down\n",
    "\n",
    "    return None  # Target not found\n",
    "\n",
    "Matrix = [\n",
    "[1, 3, 5],\n",
    "[7, 9, 11],\n",
    "[13, 15, 17]\n",
    "]\n",
    "target_value = 11\n",
    "result = search_in_matrix(Matrix, target_value)\n",
    "\n",
    "if result:\n",
    "    print(f\"Found {target_value} at position {result}.\")\n",
    "else:\n",
    "    print(f\"{target_value} is not in the treasure map. Keep exploring!\")"
   ]
  },
  {
   "cell_type": "markdown",
   "metadata": {},
   "source": [
    "**Problem 5 :**"
   ]
  },
  {
   "cell_type": "markdown",
   "metadata": {},
   "source": [
    "Sorting Strings by Length\n",
    "\n",
    "Write a Python program that takes a list of strings and sorts them based on their length."
   ]
  },
  {
   "cell_type": "markdown",
   "metadata": {},
   "source": [
    "Input:\n",
    "['apple', 'banana', 'kiwi', 'orange', 'grape']\n",
    "\n",
    "Output:\n",
    "['kiwi', 'grape', 'apple', 'banana', 'orange']"
   ]
  },
  {
   "cell_type": "code",
   "execution_count": 11,
   "metadata": {},
   "outputs": [
    {
     "name": "stdout",
     "output_type": "stream",
     "text": [
      "Sorted words by length:\n",
      "['kiwi', 'apple', 'grape', 'banana', 'orange']\n"
     ]
    }
   ],
   "source": [
    "def sort_strings_by_length(strings):\n",
    "    return sorted(strings, key=len)\n",
    "\n",
    "word_list = ['apple', 'banana', 'kiwi', 'orange', 'grape']\n",
    "sorted_words = sort_strings_by_length(word_list)\n",
    "\n",
    "new_list = []\n",
    "print(\"Sorted words by length:\")\n",
    "for word in sorted_words:\n",
    "    new_list.append(word)\n",
    "print(new_list)"
   ]
  },
  {
   "cell_type": "markdown",
   "metadata": {},
   "source": [
    "**Problem 6 :**"
   ]
  },
  {
   "cell_type": "markdown",
   "metadata": {},
   "source": [
    "Implementing the merge sort ( Will be discussed in the class )"
   ]
  },
  {
   "cell_type": "code",
   "execution_count": 12,
   "metadata": {},
   "outputs": [
    {
     "data": {
      "text/plain": [
       "[1, 1, 4, 6, 23, 34, 78]"
      ]
     },
     "execution_count": 12,
     "metadata": {},
     "output_type": "execute_result"
    }
   ],
   "source": [
    "def mergeSort(arr):\n",
    "    #base condition\n",
    "    if (len(arr))<=1:\n",
    "        return \n",
    "    #divide into two parts\n",
    "    mid=len(arr)//2\n",
    "    #left half of the array\n",
    "    left=arr[:mid]\n",
    "    #right half of the array\n",
    "    right=arr[mid:]\n",
    "    #sort the left part\n",
    "    mergeSort(left)\n",
    "    #sort the right part\n",
    "    mergeSort(right)\n",
    "    #logic to merge both individually sorted left and right\n",
    "    merge(left,right,arr)\n",
    "    return arr\n",
    "\n",
    "def merge(left,right,arr):\n",
    "    i=0 #index of left array\n",
    "    j=0 #index of right array\n",
    "    k=0 #index of result array\n",
    "    while i<len(left) and j<len(right):\n",
    "        if(left[i]<=right[j]):\n",
    "            arr[k]=left[i]\n",
    "            i+=1\n",
    "        else:\n",
    "            arr[k]=right[j]\n",
    "            j+=1\n",
    "        k+=1\n",
    "    #check if any element is left in the left array\n",
    "    while i<len(left):\n",
    "        arr[k]=left[i]\n",
    "        i+=1\n",
    "        k+=1\n",
    "    #check if any element is left on the right array\n",
    "    while j<len(right):\n",
    "        arr[k]=right[j]\n",
    "        j+=1\n",
    "        k+=1\n",
    "\n",
    "mergeSort([4,1,6,23,1,78,34])"
   ]
  },
  {
   "cell_type": "markdown",
   "metadata": {},
   "source": [
    "**Problem 7 :**\n",
    "\n",
    "Implementing the quick sort ( will be discussed in the class )"
   ]
  },
  {
   "cell_type": "code",
   "execution_count": 13,
   "metadata": {},
   "outputs": [
    {
     "data": {
      "text/plain": [
       "[-6, -3, 1, 5, 11, 23, 45]"
      ]
     },
     "execution_count": 13,
     "metadata": {},
     "output_type": "execute_result"
    }
   ],
   "source": [
    "def quickSort(arr,low,high):\n",
    "    #base condition\n",
    "    if low>=high:\n",
    "        return\n",
    "    #find the pivot point and re-arrange the array around it\n",
    "    pi=partition(arr,low,high)\n",
    "    \n",
    "    #left of pi will be all small\n",
    "    #right of pi will be all big\n",
    "    \n",
    "    #sort the left part\n",
    "    quickSort(arr,low,pi-1)\n",
    "    \n",
    "    #sort the right part\n",
    "    quickSort(arr,pi+1,high)\n",
    "    \n",
    "    return arr\n",
    "def partition(arr,low,high):\n",
    "    #we choose right most element as pivot element\n",
    "    pivot=arr[high]\n",
    "    \n",
    "    #traverse through the entire array\n",
    "    #compare the elements with the pivot element\n",
    "    \n",
    "    i=low-1 #i indicates the available index for th smaller element tan pivot\n",
    "    for j in range(low,high):\n",
    "        if (arr[j]<=pivot):\n",
    "            #we eed to set it in the left part of the array\n",
    "            i=i+1 #position arr[j] should be\n",
    "            #swap arr[j] and i index element\n",
    "            arr[i],arr[j]=arr[j],arr[i]\n",
    "    #swap the pivot element with the next greater element of i\n",
    "    arr[i+1],arr[high]=arr[high],arr[i+1]\n",
    "    return i+1\n",
    "\n",
    "quickSort([1,5,-3,-6,23,11,45],0,6)"
   ]
  },
  {
   "cell_type": "markdown",
   "metadata": {},
   "source": [
    "**Problem 8 :**"
   ]
  },
  {
   "cell_type": "markdown",
   "metadata": {},
   "source": [
    "Implementing the count sort ( will be discussed in the class )"
   ]
  },
  {
   "cell_type": "code",
   "execution_count": 14,
   "metadata": {},
   "outputs": [
    {
     "name": "stdout",
     "output_type": "stream",
     "text": [
      "Original array: [4, 2, 2, 8, 3, 3, 1]\n",
      "Sorted array: [1, 2, 2, 3, 3, 4, 8]\n"
     ]
    }
   ],
   "source": [
    "def counting_sort(arr):\n",
    "    if not arr:\n",
    "        return arr  # Empty array\n",
    "\n",
    "    # Find the maximum element to determine the size of the counting array\n",
    "    max_element = max(arr)\n",
    "    counting_array = [0] * (max_element + 1)\n",
    "\n",
    "    # Count the occurrences of each element\n",
    "    for num in arr:\n",
    "        counting_array[num] += 1\n",
    "\n",
    "    # Compute the cumulative sum\n",
    "    for i in range(1, len(counting_array)):\n",
    "        counting_array[i] += counting_array[i - 1]\n",
    "\n",
    "    # Build the sorted output array\n",
    "    output = [0] * len(arr)\n",
    "    for num in reversed(arr):\n",
    "        output[counting_array[num] - 1] = num\n",
    "        counting_array[num] -= 1\n",
    "\n",
    "    return output\n",
    "\n",
    "# Example usage:\n",
    "unsorted_numbers = [4, 2, 2, 8, 3, 3, 1]\n",
    "sorted_numbers = counting_sort(unsorted_numbers)\n",
    "\n",
    "print(f\"Original array: {unsorted_numbers}\")\n",
    "print(f\"Sorted array: {sorted_numbers}\")"
   ]
  },
  {
   "cell_type": "markdown",
   "metadata": {},
   "source": [
    "**Problem 9 :**"
   ]
  },
  {
   "cell_type": "markdown",
   "metadata": {},
   "source": [
    "Implement a Python function to find a peak element in an array. A peak element is an element that is greater\n",
    "than or equal to its neighbors."
   ]
  },
  {
   "cell_type": "markdown",
   "metadata": {},
   "source": [
    "Input:\n",
    "[1, 3, 20, 4, 1, 0]\n",
    "\n",
    "Output:\n",
    "Peak element is 20"
   ]
  },
  {
   "cell_type": "code",
   "execution_count": 17,
   "metadata": {},
   "outputs": [
    {
     "name": "stdout",
     "output_type": "stream",
     "text": [
      "Found a peak element: 20\n"
     ]
    }
   ],
   "source": [
    "def find_peak_element(arr):\n",
    "    n = len(arr)\n",
    "    for i in range(n):\n",
    "        if (i == 0 or arr[i] >= arr[i - 1]) and (i == n - 1 or arr[i] >= arr[i + 1]):\n",
    "            return arr[i]\n",
    "    return None  # No peak found\n",
    "\n",
    "\n",
    "my_array = [1, 3, 20, 4, 1, 0]\n",
    "peak = find_peak_element(my_array)\n",
    "\n",
    "if peak is not None:\n",
    "    print(f\"Found a peak element: {peak}\")\n",
    "else:\n",
    "    print(\"No peak element in the array. Keep climbing!\")"
   ]
  },
  {
   "cell_type": "markdown",
   "metadata": {},
   "source": [
    "**Problem 10 :**"
   ]
  },
  {
   "cell_type": "markdown",
   "metadata": {},
   "source": [
    "Search in a Nearly Sorted Array\n",
    "\n",
    "Implement a Python program to perform a binary search in a nearly sorted array. In a nearly sorted array, each\n",
    "element is at most k positions away from its sorted position."
   ]
  },
  {
   "cell_type": "markdown",
   "metadata": {},
   "source": [
    "Input:\n",
    "[2, 1, 3, 4, 6, 5, 7], k = 1\n",
    "\n",
    "Output:\n",
    "Element 5 found at index 4"
   ]
  },
  {
   "cell_type": "code",
   "execution_count": 26,
   "metadata": {},
   "outputs": [
    {
     "name": "stdout",
     "output_type": "stream",
     "text": [
      "Found 5 at index 4.\n"
     ]
    }
   ],
   "source": [
    "def binary_search_nearly_sorted(arr, target):\n",
    "    left, right = 0, len(arr) - 1\n",
    "\n",
    "    while left <= right:\n",
    "        mid = left + (right - left) // 2\n",
    "\n",
    "        if arr[mid] == target:\n",
    "            return mid \n",
    "        elif arr[mid] == target:\n",
    "            right = mid - 1\n",
    "        else:\n",
    "            left = mid + 1\n",
    "\n",
    "    return -1  # Target not found\n",
    "\n",
    "\n",
    "nearly_sorted_array = [2, 1, 3, 4, 5, 7]\n",
    "target_value = 5\n",
    "result = binary_search_nearly_sorted(nearly_sorted_array, target_value)\n",
    "\n",
    "if result is not None:\n",
    "    print(f\"Found {target_value} at index {result}.\")\n",
    "else:\n",
    "    print(f\"{target_value} is not in the nearly sorted array. Keep searching!\")"
   ]
  }
 ],
 "metadata": {
  "kernelspec": {
   "display_name": "ML",
   "language": "python",
   "name": "python3"
  },
  "language_info": {
   "codemirror_mode": {
    "name": "ipython",
    "version": 3
   },
   "file_extension": ".py",
   "mimetype": "text/x-python",
   "name": "python",
   "nbconvert_exporter": "python",
   "pygments_lexer": "ipython3",
   "version": "3.12.4"
  }
 },
 "nbformat": 4,
 "nbformat_minor": 2
}
